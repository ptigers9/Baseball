{
 "cells": [
  {
   "cell_type": "code",
   "execution_count": 12,
   "metadata": {
    "collapsed": false
   },
   "outputs": [],
   "source": [
    "import pandas as pd\n",
    "import numpy as np\n",
    "import os"
   ]
  },
  {
   "cell_type": "code",
   "execution_count": 22,
   "metadata": {
    "collapsed": false
   },
   "outputs": [],
   "source": [
    "all_star = pd.read_csv('all_star.csv')\n",
    "appearances = pd.read_csv('appearances.csv')\n",
    "batting = pd.read_csv('batting.csv')\n",
    "batting_postseason = pd.read_csv('batting_postseason.csv')\n",
    "college = pd.read_csv('college.csv')\n",
    "fielding = pd.read_csv('fielding.csv')\n",
    "fielding_outfield = pd.read_csv('fielding_outfield.csv')\n",
    "fielding_postseason = pd.read_csv('fielding_postseason.csv')\n",
    "hall_of_fame = pd.read_csv('hall_of_fame.csv')\n",
    "home_game = pd.read_csv('home_game.csv')\n",
    "manager = pd.read_csv('manager.csv')\n",
    "manager_award = pd.read_csv('manager_award.csv')\n",
    "manager_award_vote = pd.read_csv('manager_award_vote.csv')\n",
    "manager_half = pd.read_csv('manager_half.csv')\n",
    "park = pd.read_csv('park.csv')\n",
    "pitching = pd.read_csv('pitching.csv')\n",
    "pitching_postseason = pd.read_csv('pitching_postseason.csv')\n",
    "player = pd.read_csv('player.csv')\n",
    "player_award = pd.read_csv('player_award.csv')\n",
    "player_award_vote = pd.read_csv('player_award_vote.csv')\n",
    "player_college = pd.read_csv('player_college.csv')\n",
    "postseason = pd.read_csv('postseason.csv')\n",
    "salary = pd.read_csv('salary.csv')\n",
    "team = pd.read_csv('team.csv')\n",
    "team_franchise = pd.read_csv('team_franchise.csv')\n",
    "team_half = pd.read_csv('team_half.csv')"
   ]
  },
  {
   "cell_type": "code",
   "execution_count": 10,
   "metadata": {
    "collapsed": false
   },
   "outputs": [
    {
     "name": "stdout",
     "output_type": "stream",
     "text": [
      "      player_id  birth_year  birth_month  birth_day birth_country birth_state  \\\n",
      "8349  jeterde01      1974.0          6.0       26.0           USA          NJ   \n",
      "\n",
      "      birth_city  death_year  death_month  death_day    ...     name_last  \\\n",
      "8349  Pequannock         NaN          NaN        NaN    ...         Jeter   \n",
      "\n",
      "           name_given weight height bats throws       debut  final_game  \\\n",
      "8349  Derek Sanderson  195.0   75.0    R      R  1995-05-29  2014-09-28   \n",
      "\n",
      "      retro_id   bbref_id  \n",
      "8349  jeted001  jeterde01  \n",
      "\n",
      "[1 rows x 24 columns]\n"
     ]
    }
   ],
   "source": [
    "jeter=players[players['player_id']=='jeterde01']\n",
    "print jeter"
   ]
  },
  {
   "cell_type": "code",
   "execution_count": null,
   "metadata": {
    "collapsed": true
   },
   "outputs": [],
   "source": []
  }
 ],
 "metadata": {
  "kernelspec": {
   "display_name": "Python [Root]",
   "language": "python",
   "name": "Python [Root]"
  },
  "language_info": {
   "codemirror_mode": {
    "name": "ipython",
    "version": 2
   },
   "file_extension": ".py",
   "mimetype": "text/x-python",
   "name": "python",
   "nbconvert_exporter": "python",
   "pygments_lexer": "ipython2",
   "version": "2.7.12"
  }
 },
 "nbformat": 4,
 "nbformat_minor": 0
}
